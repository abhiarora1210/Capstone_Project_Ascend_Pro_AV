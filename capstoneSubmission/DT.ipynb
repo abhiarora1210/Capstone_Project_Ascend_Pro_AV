{
 "cells": [
  {
   "cell_type": "markdown",
   "id": "5d8ad702",
   "metadata": {},
   "source": [
    "<a id=\"index\">Index</a>\n",
    "\n",
    "1. [Encoding and Transformation](#Encoding-and-Transformation)\n",
    "2. [Grid Search](#Grid-Search)\n",
    "3. [Scores](#Scores)\n",
    "4. [Comparison of the two models](#Comparison-of-the-two-models)"
   ]
  },
  {
   "cell_type": "code",
   "execution_count": 1,
   "id": "fad86341",
   "metadata": {},
   "outputs": [],
   "source": [
    "import pandas as pd\n",
    "pd.set_option('display.max_columns', None)\n",
    "pd.set_option('display.max_rows', None)\n",
    "import numpy as np\n",
    "\n",
    "\n",
    "from sklearn.model_selection import StratifiedKFold\n",
    "from sklearn.model_selection import GridSearchCV\n",
    "from sklearn.model_selection import train_test_split\n",
    "from imblearn.over_sampling import SMOTE\n",
    "\n",
    "\n",
    "from sklearn.preprocessing import MinMaxScaler, StandardScaler\n",
    "mmScaler = MinMaxScaler()\n",
    "stdScaler = StandardScaler()\n",
    "\n",
    "\n",
    "from sklearn.linear_model import LogisticRegression\n",
    "from sklearn.tree import DecisionTreeClassifier\n",
    "from sklearn.ensemble import RandomForestClassifier\n",
    "from xgboost import XGBClassifier\n",
    "\n",
    "\n",
    "from sklearn.pipeline import make_pipeline\n",
    "\n",
    "\n",
    "import matplotlib.pyplot as plt\n",
    "import seaborn as sns\n",
    "from sklearn.model_selection import cross_val_score\n",
    "from sklearn.metrics import ConfusionMatrixDisplay, confusion_matrix\n",
    "from sklearn.metrics import accuracy_score, roc_curve, roc_auc_score,\\\n",
    "                            recall_score, precision_score, plot_roc_curve,\\\n",
    "                            precision_recall_curve, plot_precision_recall_curve,\\\n",
    "                            f1_score\n",
    "\n",
    "\n",
    "import re, os\n",
    "\n",
    "from itertools import product\n",
    "\n",
    "import pickle, json\n",
    "\n",
    "\n",
    "DEFAULT_RANDOM_STATE = 786"
   ]
  },
  {
   "cell_type": "code",
   "execution_count": 2,
   "id": "5a048560",
   "metadata": {},
   "outputs": [],
   "source": [
    "def plotConfusionMatrix(estimator, x, y_true):\n",
    "    check_preds = estimator.predict(x)\n",
    "\n",
    "    cm = confusion_matrix(y_true, check_preds)\n",
    "    plt.rcParams[\"font.size\"] = 10\n",
    "    cm_display = ConfusionMatrixDisplay(cm).plot()\n",
    "\n",
    "    plt.xticks(ticks=[0,1], labels=[\"Active\", \"Resigned\"])\n",
    "    plt.yticks(ticks=[0,1], labels=[\"Active\", \"Resigned\"])\n",
    "    plt.show()\n",
    "\n",
    "    roc    = roc_auc_score(y_true, check_preds)\n",
    "    recall = recall_score(y_true, check_preds)\n",
    "    preci  = precision_score(y_true, check_preds)\n",
    "    acc    = accuracy_score(y_true, check_preds)\n",
    "\n",
    "    print(f\"{'ROC':<11}: {roc:.4f}\\n{'Recall':<11}: {recall:.4f}\\n{'Precision':<11}: {preci:.4f}\\n{'Accuracy':<11}: {acc:.4f}\")"
   ]
  },
  {
   "cell_type": "code",
   "execution_count": 3,
   "id": "22a1621a",
   "metadata": {},
   "outputs": [],
   "source": [
    "def threshold_score(estimator, x_data, y_true, threshold = 0.5, plot_matrix = True, return_scores = None):\n",
    "    check_preds = estimator.predict_proba(x_data)[:, 0]\n",
    "    check_preds = (check_preds < threshold).astype(int)\n",
    "\n",
    "    cm     = confusion_matrix(y_true, check_preds)\n",
    "    roc    = roc_auc_score(y_true, check_preds)\n",
    "    recall = recall_score(y_true, check_preds)\n",
    "    preci  = precision_score(y_true, check_preds)\n",
    "    acc    = accuracy_score(y_true, check_preds)\n",
    "    f1     = f1_score(y_true, check_preds)\n",
    "    bth    = bestThreshold(*roc_curve(y_true, check_preds))\n",
    "    \n",
    "    results = {\n",
    "        \"cm\" : cm,\n",
    "        \"roc\": roc,\n",
    "        \"recall\": recall,\n",
    "        \"precision\": preci,\n",
    "        \"acc\": acc,\n",
    "        \"f1\": f1,\n",
    "        \"bth\": bth\n",
    "    }\n",
    "    \n",
    "    if type(return_scores)==list:\n",
    "        scores = []\n",
    "        for score in return_scores:\n",
    "            if results.get(score, None) is None:\n",
    "                raise \"Wrong score name\"\n",
    "            \n",
    "            scores.append(results[score])\n",
    "        return scores\n",
    "    \n",
    "    if plot_matrix:\n",
    "        plt.rcParams[\"font.size\"] = 10\n",
    "        cm_display = ConfusionMatrixDisplay(cm).plot()\n",
    "        plt.xticks(ticks=[0,1], labels=[\"Active\", \"Resigned\"])\n",
    "        plt.yticks(ticks=[0,1], labels=[\"Active\", \"Resigned\"])\n",
    "        plt.show()\n",
    "\n",
    "\n",
    "    print(f\"{'ROC':<11}: {roc:.4f}\\n{'Recall':<11}: {recall:.4f}\\n{'Precision':<11}: {preci:.4f}\\n{'Accuracy':<11}: {acc:.4f}\")\n",
    "\n",
    "\n",
    "def bestThreshold(fprs, tprs, thresholds):\n",
    "    gmeans = np.sqrt(tprs*(1-fprs))\n",
    "    \n",
    "    return thresholds[np.argmax(gmeans)]"
   ]
  },
  {
   "cell_type": "code",
   "execution_count": 4,
   "id": "242ba605",
   "metadata": {},
   "outputs": [
    {
     "data": {
      "text/html": [
       "<div>\n",
       "<style scoped>\n",
       "    .dataframe tbody tr th:only-of-type {\n",
       "        vertical-align: middle;\n",
       "    }\n",
       "\n",
       "    .dataframe tbody tr th {\n",
       "        vertical-align: top;\n",
       "    }\n",
       "\n",
       "    .dataframe thead th {\n",
       "        text-align: right;\n",
       "    }\n",
       "</style>\n",
       "<table border=\"1\" class=\"dataframe\">\n",
       "  <thead>\n",
       "    <tr style=\"text-align: right;\">\n",
       "      <th></th>\n",
       "      <th>Employee No</th>\n",
       "      <th>Employee Name</th>\n",
       "      <th>Gender</th>\n",
       "      <th>Leaving Reason</th>\n",
       "      <th>Previous Employer</th>\n",
       "      <th>Latest  Available Rating</th>\n",
       "      <th>Profit Center</th>\n",
       "      <th>Employee Location</th>\n",
       "      <th>People Group</th>\n",
       "      <th>Employee Category</th>\n",
       "      <th>Supervisor name</th>\n",
       "      <th>Month of termination</th>\n",
       "      <th>Tenure_till_18</th>\n",
       "      <th>Tenure_till_18_in_months</th>\n",
       "      <th>Tenure_till_18_in_years</th>\n",
       "      <th>Age_16_18</th>\n",
       "      <th>Current Status16_18</th>\n",
       "      <th>Is promoted</th>\n",
       "      <th>Total Hours</th>\n",
       "      <th>Total Available Hours</th>\n",
       "      <th>Work Hours</th>\n",
       "      <th>Leave Hours</th>\n",
       "      <th>Training Hours</th>\n",
       "      <th>BD Hours</th>\n",
       "      <th>NC Hours</th>\n",
       "      <th>Utilization%</th>\n",
       "      <th>Utilization Status</th>\n",
       "      <th>Utilization%-Mean</th>\n",
       "    </tr>\n",
       "  </thead>\n",
       "  <tbody>\n",
       "    <tr>\n",
       "      <th>0</th>\n",
       "      <td>1</td>\n",
       "      <td>Rochette Jilleen</td>\n",
       "      <td>Unknown</td>\n",
       "      <td>Unknown</td>\n",
       "      <td>Unknown</td>\n",
       "      <td>Unknown</td>\n",
       "      <td>PC - 1</td>\n",
       "      <td>Location 3</td>\n",
       "      <td>Client Service Staff</td>\n",
       "      <td>SVP/VP</td>\n",
       "      <td>Idalina Lauraine</td>\n",
       "      <td>Unknown</td>\n",
       "      <td>17.497964</td>\n",
       "      <td>209.975564</td>\n",
       "      <td>17.0</td>\n",
       "      <td>0.0</td>\n",
       "      <td>Active</td>\n",
       "      <td>Yes</td>\n",
       "      <td>4168.0</td>\n",
       "      <td>3666.5</td>\n",
       "      <td>1084.0</td>\n",
       "      <td>404.0</td>\n",
       "      <td>97.5</td>\n",
       "      <td>2623.5</td>\n",
       "      <td>74.0</td>\n",
       "      <td>29.661004</td>\n",
       "      <td>Below Avg</td>\n",
       "      <td>29.661004</td>\n",
       "    </tr>\n",
       "    <tr>\n",
       "      <th>1</th>\n",
       "      <td>2</td>\n",
       "      <td>Daryl Natalina</td>\n",
       "      <td>Unknown</td>\n",
       "      <td>Unknown</td>\n",
       "      <td>Unknown</td>\n",
       "      <td>Unknown</td>\n",
       "      <td>PC - 2</td>\n",
       "      <td>Location 7</td>\n",
       "      <td>Client Service Staff</td>\n",
       "      <td>SVP/VP</td>\n",
       "      <td>Idalina Lauraine</td>\n",
       "      <td>Unknown</td>\n",
       "      <td>18.834062</td>\n",
       "      <td>226.008748</td>\n",
       "      <td>19.0</td>\n",
       "      <td>0.0</td>\n",
       "      <td>Active</td>\n",
       "      <td>No</td>\n",
       "      <td>4168.0</td>\n",
       "      <td>3750.0</td>\n",
       "      <td>1277.5</td>\n",
       "      <td>364.0</td>\n",
       "      <td>54.0</td>\n",
       "      <td>1294.5</td>\n",
       "      <td>1330.5</td>\n",
       "      <td>34.083718</td>\n",
       "      <td>Below Avg</td>\n",
       "      <td>34.083718</td>\n",
       "    </tr>\n",
       "    <tr>\n",
       "      <th>2</th>\n",
       "      <td>3</td>\n",
       "      <td>Annnora Gabrielle</td>\n",
       "      <td>Unknown</td>\n",
       "      <td>Unknown</td>\n",
       "      <td>Unknown</td>\n",
       "      <td>Unknown</td>\n",
       "      <td>PC - 2</td>\n",
       "      <td>Location 7</td>\n",
       "      <td>Client Service Staff</td>\n",
       "      <td>SVP/VP</td>\n",
       "      <td>Idalina Lauraine</td>\n",
       "      <td>Unknown</td>\n",
       "      <td>17.161201</td>\n",
       "      <td>205.934413</td>\n",
       "      <td>17.0</td>\n",
       "      <td>0.0</td>\n",
       "      <td>Active</td>\n",
       "      <td>No</td>\n",
       "      <td>4168.0</td>\n",
       "      <td>3618.5</td>\n",
       "      <td>2177.5</td>\n",
       "      <td>482.0</td>\n",
       "      <td>67.5</td>\n",
       "      <td>970.5</td>\n",
       "      <td>907.0</td>\n",
       "      <td>60.553933</td>\n",
       "      <td>Above Avg</td>\n",
       "      <td>60.553933</td>\n",
       "    </tr>\n",
       "    <tr>\n",
       "      <th>3</th>\n",
       "      <td>4</td>\n",
       "      <td>Barbee Joey</td>\n",
       "      <td>M</td>\n",
       "      <td>Career Growth</td>\n",
       "      <td>kadoo</td>\n",
       "      <td>Unknown</td>\n",
       "      <td>PC - 3</td>\n",
       "      <td>Location 1</td>\n",
       "      <td>Client Service Staff</td>\n",
       "      <td>Awaiting Termination</td>\n",
       "      <td>Idalina Lauraine</td>\n",
       "      <td>2</td>\n",
       "      <td>17.413089</td>\n",
       "      <td>208.957063</td>\n",
       "      <td>17.0</td>\n",
       "      <td>43.0</td>\n",
       "      <td>Resigned</td>\n",
       "      <td>No</td>\n",
       "      <td>3928.0</td>\n",
       "      <td>3491.5</td>\n",
       "      <td>546.0</td>\n",
       "      <td>404.0</td>\n",
       "      <td>32.5</td>\n",
       "      <td>2743.0</td>\n",
       "      <td>279.0</td>\n",
       "      <td>15.695026</td>\n",
       "      <td>Low</td>\n",
       "      <td>15.695026</td>\n",
       "    </tr>\n",
       "    <tr>\n",
       "      <th>4</th>\n",
       "      <td>5</td>\n",
       "      <td>Idalina Lauraine</td>\n",
       "      <td>Unknown</td>\n",
       "      <td>Unknown</td>\n",
       "      <td>Unknown</td>\n",
       "      <td>Unknown</td>\n",
       "      <td>PC - 4</td>\n",
       "      <td>Location 3</td>\n",
       "      <td>Client Service Staff</td>\n",
       "      <td>Level 1/2</td>\n",
       "      <td>Abagail Druci</td>\n",
       "      <td>Unknown</td>\n",
       "      <td>18.751925</td>\n",
       "      <td>225.023101</td>\n",
       "      <td>19.0</td>\n",
       "      <td>0.0</td>\n",
       "      <td>Active</td>\n",
       "      <td>No</td>\n",
       "      <td>1312.0</td>\n",
       "      <td>1205.0</td>\n",
       "      <td>149.0</td>\n",
       "      <td>104.0</td>\n",
       "      <td>3.0</td>\n",
       "      <td>1159.0</td>\n",
       "      <td>818.0</td>\n",
       "      <td>12.365145</td>\n",
       "      <td>Low</td>\n",
       "      <td>12.365145</td>\n",
       "    </tr>\n",
       "  </tbody>\n",
       "</table>\n",
       "</div>"
      ],
      "text/plain": [
       "   Employee No      Employee Name   Gender Leaving Reason Previous Employer  \\\n",
       "0            1   Rochette Jilleen  Unknown        Unknown           Unknown   \n",
       "1            2     Daryl Natalina  Unknown        Unknown           Unknown   \n",
       "2            3  Annnora Gabrielle  Unknown        Unknown           Unknown   \n",
       "3            4        Barbee Joey        M  Career Growth             kadoo   \n",
       "4            5   Idalina Lauraine  Unknown        Unknown           Unknown   \n",
       "\n",
       "  Latest  Available Rating Profit Center Employee Location  \\\n",
       "0                  Unknown        PC - 1        Location 3   \n",
       "1                  Unknown        PC - 2        Location 7   \n",
       "2                  Unknown        PC - 2        Location 7   \n",
       "3                  Unknown        PC - 3        Location 1   \n",
       "4                  Unknown        PC - 4        Location 3   \n",
       "\n",
       "           People Group     Employee Category   Supervisor name  \\\n",
       "0  Client Service Staff                SVP/VP  Idalina Lauraine   \n",
       "1  Client Service Staff                SVP/VP  Idalina Lauraine   \n",
       "2  Client Service Staff                SVP/VP  Idalina Lauraine   \n",
       "3  Client Service Staff  Awaiting Termination  Idalina Lauraine   \n",
       "4  Client Service Staff             Level 1/2     Abagail Druci   \n",
       "\n",
       "  Month of termination  Tenure_till_18  Tenure_till_18_in_months  \\\n",
       "0              Unknown       17.497964                209.975564   \n",
       "1              Unknown       18.834062                226.008748   \n",
       "2              Unknown       17.161201                205.934413   \n",
       "3                    2       17.413089                208.957063   \n",
       "4              Unknown       18.751925                225.023101   \n",
       "\n",
       "   Tenure_till_18_in_years  Age_16_18 Current Status16_18 Is promoted  \\\n",
       "0                     17.0        0.0              Active         Yes   \n",
       "1                     19.0        0.0              Active          No   \n",
       "2                     17.0        0.0              Active          No   \n",
       "3                     17.0       43.0            Resigned          No   \n",
       "4                     19.0        0.0              Active          No   \n",
       "\n",
       "   Total Hours  Total Available Hours  Work Hours  Leave Hours  \\\n",
       "0       4168.0                 3666.5      1084.0        404.0   \n",
       "1       4168.0                 3750.0      1277.5        364.0   \n",
       "2       4168.0                 3618.5      2177.5        482.0   \n",
       "3       3928.0                 3491.5       546.0        404.0   \n",
       "4       1312.0                 1205.0       149.0        104.0   \n",
       "\n",
       "   Training Hours  BD Hours  NC Hours  Utilization% Utilization Status  \\\n",
       "0            97.5    2623.5      74.0     29.661004          Below Avg   \n",
       "1            54.0    1294.5    1330.5     34.083718          Below Avg   \n",
       "2            67.5     970.5     907.0     60.553933          Above Avg   \n",
       "3            32.5    2743.0     279.0     15.695026                Low   \n",
       "4             3.0    1159.0     818.0     12.365145                Low   \n",
       "\n",
       "   Utilization%-Mean  \n",
       "0          29.661004  \n",
       "1          34.083718  \n",
       "2          60.553933  \n",
       "3          15.695026  \n",
       "4          12.365145  "
      ]
     },
     "execution_count": 4,
     "metadata": {},
     "output_type": "execute_result"
    }
   ],
   "source": [
    "df = pd.read_csv(\"Final_for_model.csv\")\n",
    "df.head()"
   ]
  },
  {
   "cell_type": "code",
   "execution_count": 5,
   "id": "0419c4f3",
   "metadata": {},
   "outputs": [
    {
     "data": {
      "text/html": [
       "<div>\n",
       "<style scoped>\n",
       "    .dataframe tbody tr th:only-of-type {\n",
       "        vertical-align: middle;\n",
       "    }\n",
       "\n",
       "    .dataframe tbody tr th {\n",
       "        vertical-align: top;\n",
       "    }\n",
       "\n",
       "    .dataframe thead th {\n",
       "        text-align: right;\n",
       "    }\n",
       "</style>\n",
       "<table border=\"1\" class=\"dataframe\">\n",
       "  <thead>\n",
       "    <tr style=\"text-align: right;\">\n",
       "      <th></th>\n",
       "      <th>Profit Center</th>\n",
       "      <th>Current Status16_18</th>\n",
       "      <th>Is promoted</th>\n",
       "      <th>Total Hours</th>\n",
       "      <th>Total Available Hours</th>\n",
       "      <th>Work Hours</th>\n",
       "      <th>Leave Hours</th>\n",
       "      <th>Training Hours</th>\n",
       "      <th>NC Hours</th>\n",
       "      <th>Utilization%</th>\n",
       "    </tr>\n",
       "  </thead>\n",
       "  <tbody>\n",
       "    <tr>\n",
       "      <th>0</th>\n",
       "      <td>PC - 1</td>\n",
       "      <td>Active</td>\n",
       "      <td>Yes</td>\n",
       "      <td>4168.0</td>\n",
       "      <td>3666.5</td>\n",
       "      <td>1084.0</td>\n",
       "      <td>404.0</td>\n",
       "      <td>97.5</td>\n",
       "      <td>74.0</td>\n",
       "      <td>29.661004</td>\n",
       "    </tr>\n",
       "    <tr>\n",
       "      <th>1</th>\n",
       "      <td>PC - 2</td>\n",
       "      <td>Active</td>\n",
       "      <td>No</td>\n",
       "      <td>4168.0</td>\n",
       "      <td>3750.0</td>\n",
       "      <td>1277.5</td>\n",
       "      <td>364.0</td>\n",
       "      <td>54.0</td>\n",
       "      <td>1330.5</td>\n",
       "      <td>34.083718</td>\n",
       "    </tr>\n",
       "    <tr>\n",
       "      <th>2</th>\n",
       "      <td>PC - 2</td>\n",
       "      <td>Active</td>\n",
       "      <td>No</td>\n",
       "      <td>4168.0</td>\n",
       "      <td>3618.5</td>\n",
       "      <td>2177.5</td>\n",
       "      <td>482.0</td>\n",
       "      <td>67.5</td>\n",
       "      <td>907.0</td>\n",
       "      <td>60.553933</td>\n",
       "    </tr>\n",
       "    <tr>\n",
       "      <th>3</th>\n",
       "      <td>PC - 3</td>\n",
       "      <td>Resigned</td>\n",
       "      <td>No</td>\n",
       "      <td>3928.0</td>\n",
       "      <td>3491.5</td>\n",
       "      <td>546.0</td>\n",
       "      <td>404.0</td>\n",
       "      <td>32.5</td>\n",
       "      <td>279.0</td>\n",
       "      <td>15.695026</td>\n",
       "    </tr>\n",
       "    <tr>\n",
       "      <th>4</th>\n",
       "      <td>PC - 4</td>\n",
       "      <td>Active</td>\n",
       "      <td>No</td>\n",
       "      <td>1312.0</td>\n",
       "      <td>1205.0</td>\n",
       "      <td>149.0</td>\n",
       "      <td>104.0</td>\n",
       "      <td>3.0</td>\n",
       "      <td>818.0</td>\n",
       "      <td>12.365145</td>\n",
       "    </tr>\n",
       "  </tbody>\n",
       "</table>\n",
       "</div>"
      ],
      "text/plain": [
       "  Profit Center Current Status16_18 Is promoted  Total Hours  \\\n",
       "0        PC - 1              Active         Yes       4168.0   \n",
       "1        PC - 2              Active          No       4168.0   \n",
       "2        PC - 2              Active          No       4168.0   \n",
       "3        PC - 3            Resigned          No       3928.0   \n",
       "4        PC - 4              Active          No       1312.0   \n",
       "\n",
       "   Total Available Hours  Work Hours  Leave Hours  Training Hours  NC Hours  \\\n",
       "0                 3666.5      1084.0        404.0            97.5      74.0   \n",
       "1                 3750.0      1277.5        364.0            54.0    1330.5   \n",
       "2                 3618.5      2177.5        482.0            67.5     907.0   \n",
       "3                 3491.5       546.0        404.0            32.5     279.0   \n",
       "4                 1205.0       149.0        104.0             3.0     818.0   \n",
       "\n",
       "   Utilization%  \n",
       "0     29.661004  \n",
       "1     34.083718  \n",
       "2     60.553933  \n",
       "3     15.695026  \n",
       "4     12.365145  "
      ]
     },
     "execution_count": 5,
     "metadata": {},
     "output_type": "execute_result"
    }
   ],
   "source": [
    "drop_cols = [\n",
    "    \"Employee No\"\n",
    "    , \"Employee Name\"\n",
    "    , \"Previous Employer\"\n",
    "    , \"People Group\"\n",
    "    , \"Employee Category\"\n",
    "    , \"Supervisor name\"\n",
    "    , \"Tenure_till_18_in_months\"\n",
    "    , \"Tenure_till_18_in_years\"\n",
    "    , \"Utilization Status\"\n",
    "    , \"Employee Location\"\n",
    "    , \"Gender\"\n",
    "    , \"Leaving Reason\"\n",
    "    , \"Latest  Available Rating\"\n",
    "    , \"Tenure_till_18\"\n",
    "    , \"Age_16_18\"\n",
    "    , \"BD Hours\"\n",
    "    , \"Month of termination\"\n",
    "]\n",
    "\n",
    "provisional_cols = [\n",
    "    \"dummy\"\n",
    "#     , \"Utilization%\"\n",
    "    , \"Utilization%-Mean\"\n",
    "#     , 'Total Available Hours'\n",
    "#     , 'Total Hours'\n",
    "#     , 'Work Hours'\n",
    "#     , 'Leave Hours'\n",
    "]\n",
    "\n",
    "data = df.drop(drop_cols + provisional_cols[1:], axis=1)\n",
    "data.head()"
   ]
  },
  {
   "cell_type": "markdown",
   "id": "4bff4756",
   "metadata": {},
   "source": [
    "## [Encoding and Transformation](#index)"
   ]
  },
  {
   "cell_type": "markdown",
   "id": "18d7a037",
   "metadata": {},
   "source": [
    "1. Resigned and Active are mapped to 1 and 0 respectively\n",
    "2. Log Transformation is applied to `NC Hours` and `Leave Hours`, and power transformation to `Utilization%` (power = 1.3)"
   ]
  },
  {
   "cell_type": "code",
   "execution_count": 6,
   "id": "bc385b9e",
   "metadata": {},
   "outputs": [
    {
     "data": {
      "text/html": [
       "<div>\n",
       "<style scoped>\n",
       "    .dataframe tbody tr th:only-of-type {\n",
       "        vertical-align: middle;\n",
       "    }\n",
       "\n",
       "    .dataframe tbody tr th {\n",
       "        vertical-align: top;\n",
       "    }\n",
       "\n",
       "    .dataframe thead th {\n",
       "        text-align: right;\n",
       "    }\n",
       "</style>\n",
       "<table border=\"1\" class=\"dataframe\">\n",
       "  <thead>\n",
       "    <tr style=\"text-align: right;\">\n",
       "      <th></th>\n",
       "      <th>Total Hours</th>\n",
       "      <th>Total Available Hours</th>\n",
       "      <th>Work Hours</th>\n",
       "      <th>Leave Hours</th>\n",
       "      <th>Training Hours</th>\n",
       "      <th>NC Hours</th>\n",
       "      <th>Utilization%</th>\n",
       "      <th>Is promoted_No</th>\n",
       "      <th>Is promoted_Yes</th>\n",
       "      <th>ProfitCenter_Other</th>\n",
       "      <th>ProfitCenter_PC - 1</th>\n",
       "      <th>ProfitCenter_PC - 2</th>\n",
       "      <th>ProfitCenter_PC - 3</th>\n",
       "    </tr>\n",
       "  </thead>\n",
       "  <tbody>\n",
       "    <tr>\n",
       "      <th>0</th>\n",
       "      <td>4168.0</td>\n",
       "      <td>3666.5</td>\n",
       "      <td>1084.0</td>\n",
       "      <td>6.003887</td>\n",
       "      <td>97.5</td>\n",
       "      <td>4.317488</td>\n",
       "      <td>13.565964</td>\n",
       "      <td>0</td>\n",
       "      <td>1</td>\n",
       "      <td>0</td>\n",
       "      <td>1</td>\n",
       "      <td>0</td>\n",
       "      <td>0</td>\n",
       "    </tr>\n",
       "    <tr>\n",
       "      <th>1</th>\n",
       "      <td>4168.0</td>\n",
       "      <td>3750.0</td>\n",
       "      <td>1277.5</td>\n",
       "      <td>5.899897</td>\n",
       "      <td>54.0</td>\n",
       "      <td>7.194061</td>\n",
       "      <td>15.096709</td>\n",
       "      <td>1</td>\n",
       "      <td>0</td>\n",
       "      <td>0</td>\n",
       "      <td>0</td>\n",
       "      <td>1</td>\n",
       "      <td>0</td>\n",
       "    </tr>\n",
       "    <tr>\n",
       "      <th>2</th>\n",
       "      <td>4168.0</td>\n",
       "      <td>3618.5</td>\n",
       "      <td>2177.5</td>\n",
       "      <td>6.180017</td>\n",
       "      <td>67.5</td>\n",
       "      <td>6.811244</td>\n",
       "      <td>23.489769</td>\n",
       "      <td>1</td>\n",
       "      <td>0</td>\n",
       "      <td>0</td>\n",
       "      <td>0</td>\n",
       "      <td>1</td>\n",
       "      <td>0</td>\n",
       "    </tr>\n",
       "    <tr>\n",
       "      <th>3</th>\n",
       "      <td>3928.0</td>\n",
       "      <td>3491.5</td>\n",
       "      <td>546.0</td>\n",
       "      <td>6.003887</td>\n",
       "      <td>32.5</td>\n",
       "      <td>5.634790</td>\n",
       "      <td>8.314133</td>\n",
       "      <td>1</td>\n",
       "      <td>0</td>\n",
       "      <td>0</td>\n",
       "      <td>0</td>\n",
       "      <td>0</td>\n",
       "      <td>1</td>\n",
       "    </tr>\n",
       "    <tr>\n",
       "      <th>4</th>\n",
       "      <td>1312.0</td>\n",
       "      <td>1205.0</td>\n",
       "      <td>149.0</td>\n",
       "      <td>4.653960</td>\n",
       "      <td>3.0</td>\n",
       "      <td>6.708084</td>\n",
       "      <td>6.920751</td>\n",
       "      <td>1</td>\n",
       "      <td>0</td>\n",
       "      <td>1</td>\n",
       "      <td>0</td>\n",
       "      <td>0</td>\n",
       "      <td>0</td>\n",
       "    </tr>\n",
       "  </tbody>\n",
       "</table>\n",
       "</div>"
      ],
      "text/plain": [
       "   Total Hours  Total Available Hours  Work Hours  Leave Hours  \\\n",
       "0       4168.0                 3666.5      1084.0     6.003887   \n",
       "1       4168.0                 3750.0      1277.5     5.899897   \n",
       "2       4168.0                 3618.5      2177.5     6.180017   \n",
       "3       3928.0                 3491.5       546.0     6.003887   \n",
       "4       1312.0                 1205.0       149.0     4.653960   \n",
       "\n",
       "   Training Hours  NC Hours  Utilization%  Is promoted_No  Is promoted_Yes  \\\n",
       "0            97.5  4.317488     13.565964               0                1   \n",
       "1            54.0  7.194061     15.096709               1                0   \n",
       "2            67.5  6.811244     23.489769               1                0   \n",
       "3            32.5  5.634790      8.314133               1                0   \n",
       "4             3.0  6.708084      6.920751               1                0   \n",
       "\n",
       "   ProfitCenter_Other  ProfitCenter_PC - 1  ProfitCenter_PC - 2  \\\n",
       "0                   0                    1                    0   \n",
       "1                   0                    0                    1   \n",
       "2                   0                    0                    1   \n",
       "3                   0                    0                    0   \n",
       "4                   1                    0                    0   \n",
       "\n",
       "   ProfitCenter_PC - 3  \n",
       "0                    0  \n",
       "1                    0  \n",
       "2                    0  \n",
       "3                    1  \n",
       "4                    0  "
      ]
     },
     "execution_count": 6,
     "metadata": {},
     "output_type": "execute_result"
    }
   ],
   "source": [
    "def profitCenterClub(row):\n",
    "    pcnum = int(row[\"Profit Center\"].split()[-1])\n",
    "    \n",
    "    if pcnum>3:\n",
    "        return \"Other\"\n",
    "    \n",
    "    return row[\"Profit Center\"]\n",
    "\n",
    "data[\"ProfitCenter\"] = data.apply(profitCenterClub, axis=1)\n",
    "data.drop([\"Profit Center\"], axis=1, inplace=True)\n",
    "\n",
    "\n",
    "### Splitting data into x(predictors) and y(target)\n",
    "data_x = pd.get_dummies(data.drop([\"Current Status16_18\"], axis=1))\n",
    "data_y = data[\"Current Status16_18\"].map({\"Active\" : 0, \"Resigned\" : 1})\n",
    "\n",
    "\n",
    "\n",
    "def logTrans(data, cols):\n",
    "    for col in cols:\n",
    "        data[col] = np.log(data[col]+1)\n",
    "\n",
    "transform_cols = [\"NC Hours\", \"Leave Hours\"]\n",
    "logTrans(data_x, transform_cols)\n",
    "\n",
    "\n",
    "### Transforming the utilization% column using the below power based on the resulting distribution in EDA\n",
    "util_transform_power = 1.3\n",
    "data_x[\"Utilization%\"] = data_x[\"Utilization%\"].transform(lambda s: s**(1/util_transform_power))\n",
    "data_x.head()"
   ]
  },
  {
   "cell_type": "code",
   "execution_count": 7,
   "id": "f5682cdd",
   "metadata": {},
   "outputs": [
    {
     "data": {
      "text/plain": [
       "(-0.003100560484439175, 12.536384371340938)"
      ]
     },
     "execution_count": 7,
     "metadata": {},
     "output_type": "execute_result"
    }
   ],
   "source": [
    "data_x[\"Utilization%\"].skew(), data_x[\"Utilization%\"].kurtosis()"
   ]
  },
  {
   "cell_type": "code",
   "execution_count": 8,
   "id": "9bdc9d47",
   "metadata": {},
   "outputs": [],
   "source": [
    "def scaleTheSplit(train_data, test_data, scaler, transform_train = False):\n",
    "    scaler.fit(train_data)\n",
    "    return_test  = pd.DataFrame(scaler.transform(test_data), columns=test_data.columns)\n",
    "    \n",
    "    if transform_train:\n",
    "        return_train = pd.DataFrame(scaler.transform(train_data), columns=train_data.columns)\n",
    "        return return_train, return_test\n",
    "\n",
    "    return train_data, return_test"
   ]
  },
  {
   "cell_type": "code",
   "execution_count": 9,
   "id": "e34e2c35",
   "metadata": {},
   "outputs": [],
   "source": [
    "x_train, x_test, y_train, y_test = train_test_split(data_x, data_y, test_size=0.2,\n",
    "                                                    stratify=data_y,\n",
    "                                                    random_state=DEFAULT_RANDOM_STATE)\n",
    "x_train_scaled, x_test = scaleTheSplit(x_train, x_test, mmScaler, transform_train=True)"
   ]
  },
  {
   "cell_type": "code",
   "execution_count": 10,
   "id": "609de484",
   "metadata": {},
   "outputs": [
    {
     "data": {
      "text/plain": [
       "(0    0.743243\n",
       " 1    0.256757\n",
       " Name: Current Status16_18, dtype: float64,\n",
       " 0    0.74605\n",
       " 1    0.25395\n",
       " Name: Current Status16_18, dtype: float64)"
      ]
     },
     "execution_count": 10,
     "metadata": {},
     "output_type": "execute_result"
    }
   ],
   "source": [
    "y_test.value_counts(normalize=True), y_train.value_counts(normalize=True)"
   ]
  },
  {
   "cell_type": "markdown",
   "id": "cc99ef19",
   "metadata": {},
   "source": [
    "## [Grid Search](#index)"
   ]
  },
  {
   "cell_type": "code",
   "execution_count": 11,
   "id": "650e11b4",
   "metadata": {
    "scrolled": true
   },
   "outputs": [
    {
     "name": "stdout",
     "output_type": "stream",
     "text": [
      "Fitting 5 folds for each of 320 candidates, totalling 1600 fits\n"
     ]
    },
    {
     "data": {
      "text/plain": [
       "GridSearchCV(cv=5, estimator=DecisionTreeClassifier(),\n",
       "             param_grid={'class_weight': [{0: 0.1}, {0: 0.2},\n",
       "                                          {0: 0.30000000000000004}, {0: 0.4},\n",
       "                                          {0: 0.5}],\n",
       "                         'criterion': ['gini', 'entropy'],\n",
       "                         'max_depth': [3, 4, 5, 6, 7, 8, 9, 10],\n",
       "                         'max_features': ['sqrt', 'log2'],\n",
       "                         'min_samples_split': [3, 4]},\n",
       "             refit='f1', return_train_score=True,\n",
       "             scoring=['accuracy', 'recall', 'precision', 'f1'], verbose=True)"
      ]
     },
     "execution_count": 11,
     "metadata": {},
     "output_type": "execute_result"
    }
   ],
   "source": [
    "model2 = DecisionTreeClassifier()\n",
    "dt_params = {\n",
    "    \"max_depth\": [3, 4, 5, 6, 7, 8, 9, 10],\n",
    "    \"criterion\": [\"gini\", \"entropy\"],\n",
    "    \"max_features\": ['sqrt', 'log2'],\n",
    "    'class_weight': [{0: wt} for wt in np.linspace(0.1, 0.5, 5)], \n",
    "#     \"min_samples_leaf\": [3, 4, 5, 6, 7],\n",
    "    \"min_samples_split\": [3, 4]\n",
    "}\n",
    "dt_gridcv = GridSearchCV(estimator = model2,\n",
    "                         param_grid = dt_params,\n",
    "                         cv = 5,\n",
    "                         scoring = [\"accuracy\", \"recall\", \"precision\", \"f1\"],\n",
    "                         refit = 'f1',\n",
    "                         verbose = True,\n",
    "                         return_train_score = True)\n",
    "dt_gridcv.fit(x_train_scaled, y_train)"
   ]
  },
  {
   "cell_type": "code",
   "execution_count": 12,
   "id": "5d075d08",
   "metadata": {},
   "outputs": [
    {
     "data": {
      "text/plain": [
       "(0.343242193694373, 0.6913351330870513, 0.06870921621566053)"
      ]
     },
     "execution_count": 12,
     "metadata": {},
     "output_type": "execute_result"
    }
   ],
   "source": [
    "dt_gridcv.cv_results_[\"mean_test_precision\"].min(),\\\n",
    "dt_gridcv.cv_results_[\"mean_test_precision\"].max(),\\\n",
    "dt_gridcv.cv_results_[\"mean_test_precision\"].std()"
   ]
  },
  {
   "cell_type": "code",
   "execution_count": 13,
   "id": "b1322a1c",
   "metadata": {},
   "outputs": [
    {
     "data": {
      "text/plain": [
       "(0.45728096329037893, 0.63861666458651, 0.02912302412240767)"
      ]
     },
     "execution_count": 13,
     "metadata": {},
     "output_type": "execute_result"
    }
   ],
   "source": [
    "dt_gridcv.cv_results_[\"mean_test_f1\"].min(),\\\n",
    "dt_gridcv.cv_results_[\"mean_test_f1\"].max(),\\\n",
    "dt_gridcv.cv_results_[\"mean_test_f1\"].std()"
   ]
  },
  {
   "cell_type": "code",
   "execution_count": 14,
   "id": "16e1422f",
   "metadata": {},
   "outputs": [
    {
     "data": {
      "text/plain": [
       "{'class_weight': {0: 0.5},\n",
       " 'criterion': 'entropy',\n",
       " 'max_depth': 7,\n",
       " 'max_features': 'log2',\n",
       " 'min_samples_split': 3}"
      ]
     },
     "execution_count": 14,
     "metadata": {},
     "output_type": "execute_result"
    }
   ],
   "source": [
    "dt_gridcv.best_params_"
   ]
  },
  {
   "cell_type": "code",
   "execution_count": 15,
   "id": "9d9ad3dc",
   "metadata": {
    "scrolled": true
   },
   "outputs": [
    {
     "data": {
      "text/plain": [
       "0.63861666458651"
      ]
     },
     "execution_count": 15,
     "metadata": {},
     "output_type": "execute_result"
    }
   ],
   "source": [
    "dt_gridcv.best_score_"
   ]
  },
  {
   "cell_type": "markdown",
   "id": "afbf536e",
   "metadata": {},
   "source": [
    "## [Scores](#index)"
   ]
  },
  {
   "cell_type": "code",
   "execution_count": 16,
   "id": "6042a5fd",
   "metadata": {},
   "outputs": [
    {
     "data": {
      "image/png": "[encoded data removed]",
      "text/plain": [
       "<Figure size 432x288 with 2 Axes>"
      ]
     },
     "metadata": {
      "needs_background": "light"
     },
     "output_type": "display_data"
    },
    {
     "name": "stdout",
     "output_type": "stream",
     "text": [
      "ROC        : 0.7147\n",
      "Recall     : 0.5263\n",
      "Precision  : 0.6522\n",
      "Accuracy   : 0.8063\n"
     ]
    }
   ],
   "source": [
    "plotConfusionMatrix(dt_gridcv, x_test, y_test)"
   ]
  },
  {
   "cell_type": "code",
   "execution_count": 22,
   "id": "22581de0",
   "metadata": {},
   "outputs": [
    {
     "data": {
      "image/png": "[encoded data removed]",
      "text/plain": [
       "<Figure size 432x288 with 2 Axes>"
      ]
     },
     "metadata": {
      "needs_background": "light"
     },
     "output_type": "display_data"
    },
    {
     "name": "stdout",
     "output_type": "stream",
     "text": [
      "ROC        : 0.7073\n",
      "Recall     : 0.5965\n",
      "Precision  : 0.5312\n",
      "Accuracy   : 0.7613\n"
     ]
    }
   ],
   "source": [
    "threshold_score(dt_gridcv, x_test, y_test, 0.6523)"
   ]
  },
  {
   "cell_type": "markdown",
   "id": "3a558276",
   "metadata": {},
   "source": [
    "### [Comparison of the two models](#index)"
   ]
  },
  {
   "cell_type": "code",
   "execution_count": 18,
   "id": "cc0ee3d1",
   "metadata": {},
   "outputs": [],
   "source": [
    "rf = pickle.load(open(\"Saved Models/rf#1.pkl\", \"rb\"))"
   ]
  },
  {
   "cell_type": "code",
   "execution_count": 19,
   "id": "492890d9",
   "metadata": {},
   "outputs": [
    {
     "data": {
      "image/png": "[encoded data removed]",
      "text/plain": [
       "<Figure size 1080x720 with 1 Axes>"
      ]
     },
     "metadata": {
      "needs_background": "light"
     },
     "output_type": "display_data"
    }
   ],
   "source": [
    "ticksize = 16\n",
    "plt.rcParams[\"font.size\"] = 16\n",
    "fig = plot_roc_curve(rf, x_test, y_test)\n",
    "fig = plot_roc_curve(dt_gridcv.best_estimator_, x_test, y_test, ax = fig.ax_)\n",
    "fig.figure_.suptitle(\"ROC curve comparison\")\n",
    "fig.ax_.figure.set_size_inches(15,10)\n",
    "fig.ax_.xaxis.label.set_fontsize(ticksize)\n",
    "fig.ax_.yaxis.label.set_fontsize(ticksize)\n",
    "fig.ax_.set_axisbelow(True)\n",
    "plt.grid()\n",
    "plt.show()"
   ]
  },
  {
   "cell_type": "code",
   "execution_count": 20,
   "id": "b73ee53f",
   "metadata": {},
   "outputs": [
    {
     "data": {
      "image/png": "[encoded data removed]",
      "text/plain": [
       "<Figure size 1080x720 with 1 Axes>"
      ]
     },
     "metadata": {
      "needs_background": "light"
     },
     "output_type": "display_data"
    }
   ],
   "source": [
    "ticksize = 16\n",
    "plt.rcParams[\"font.size\"] = 16\n",
    "fig = plot_precision_recall_curve(rf, x_test, y_test)\n",
    "fig = plot_precision_recall_curve(dt_gridcv.best_estimator_, x_test, y_test, ax = fig.ax_)\n",
    "fig.figure_.suptitle(\"Precision-recall comparison\")\n",
    "fig.ax_.figure.set_size_inches(15,10)\n",
    "fig.ax_.xaxis.label.set_fontsize(ticksize)\n",
    "fig.ax_.yaxis.label.set_fontsize(ticksize)\n",
    "fig.ax_.set_axisbelow(True)\n",
    "plt.grid()\n",
    "plt.show()"
   ]
  }
 ],
 "metadata": {
  "kernelspec": {
   "display_name": "Python 3 (ipykernel)",
   "language": "python",
   "name": "python3"
  },
  "language_info": {
   "codemirror_mode": {
    "name": "ipython",
    "version": 3
   },
   "file_extension": ".py",
   "mimetype": "text/x-python",
   "name": "python",
   "nbconvert_exporter": "python",
   "pygments_lexer": "ipython3",
   "version": "3.9.5"
  }
 },
 "nbformat": 4,
 "nbformat_minor": 5
}
